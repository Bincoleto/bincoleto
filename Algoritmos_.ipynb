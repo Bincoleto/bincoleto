{
  "nbformat": 4,
  "nbformat_minor": 0,
  "metadata": {
    "colab": {
      "provenance": [],
      "authorship_tag": "ABX9TyOneXhw2X8ViwjAVkpaKzC/",
      "include_colab_link": true
    },
    "kernelspec": {
      "name": "python3",
      "display_name": "Python 3"
    },
    "language_info": {
      "name": "python"
    }
  },
  "cells": [
    {
      "cell_type": "markdown",
      "metadata": {
        "id": "view-in-github",
        "colab_type": "text"
      },
      "source": [
        "<a href=\"https://colab.research.google.com/github/Bincoleto/bincoleto/blob/main/Algoritmos_.ipynb\" target=\"_parent\"><img src=\"https://colab.research.google.com/assets/colab-badge.svg\" alt=\"Open In Colab\"/></a>"
      ]
    },
    {
      "cell_type": "markdown",
      "source": [
        "![ALGORITMOS.png](data:image/png;base64,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)"
      ],
      "metadata": {
        "id": "3WGIryN4hIlV"
      }
    },
    {
      "cell_type": "markdown",
      "source": [
        "# **BEM VINDO!!!**\n",
        "\n",
        "Neste notebook vamos embarcar em uma nova jornanda, aprendendo sobre algoritmos e linguagem de programação."
      ],
      "metadata": {
        "id": "i5pe0ePQP7bL"
      }
    },
    {
      "cell_type": "markdown",
      "source": [
        "Link video auxiliar na navegação do nootbook\n",
        "- https://drive.google.com/file/d/1IHzGFAvlx3olkkJYIPe2KK0KuzQURP1n/view?usp=sharing"
      ],
      "metadata": {
        "id": "-QYIF-lwMReI"
      }
    },
    {
      "cell_type": "markdown",
      "source": [
        "# **INTRODUÇÃO**"
      ],
      "metadata": {
        "id": "vASY6NNCEoq9"
      }
    },
    {
      "cell_type": "markdown",
      "source": [
        "***O que é Algoritmo?***\n",
        "\n",
        "Antes de entramos na explicação, vamos também definir o que seria um PROBLEMA.\n",
        "Problema é algo que temos no cotidiano, e que precisamos pensar em passo a passo de como vamos resolve-los.\n",
        "\n",
        "Muito desse passo a passo que pensamos, tem relação com o que vamos aprender em algoritmos, pois esses passos são o que vamos defiinir para chegar na resolução.\n",
        "\n",
        "Agora que entendemos o que é um problema, podemos começar falar sobre o que é um ALGORITMO.\n",
        "\n",
        "De forma siimples. Algoritmo e uma sequencia logica ou ordenana em que vamos aplicar uma serie de passo a passo para uma determinada ação que pretendemos resolver.\n"
      ],
      "metadata": {
        "id": "bhnYAJZcFQ1M"
      }
    },
    {
      "cell_type": "markdown",
      "source": [
        "***O que podemos fazer com um Algortimo?***\n",
        "\n",
        "Como falamos acima, podemos usar os algortimos para escrever passo a passo ou codigo em liguagem de programação, para desenvolver essas resoluções de problemas dos dias a dias."
      ],
      "metadata": {
        "id": "mPlXnRbETd_2"
      }
    },
    {
      "cell_type": "markdown",
      "source": [
        "- Exemplo abaixo e um algortimo que imprimi um valor final de X"
      ],
      "metadata": {
        "id": "zBJgOgUlj0Ye"
      }
    },
    {
      "cell_type": "code",
      "source": [
        "i = 0\n",
        "j = 3\n",
        "x = ['A','B','C','D']\n",
        "\n",
        "for k in range(0,3):\n",
        "  aux = x[i]\n",
        "  x[i] = x[j]\n",
        "  x[j] = aux\n",
        "\n",
        "  i = k + 1\n",
        "  j = k - 1\n",
        "print(x)"
      ],
      "metadata": {
        "id": "TyA8hOVxjzhC",
        "colab": {
          "base_uri": "https://localhost:8080/"
        },
        "outputId": "6acd8890-9883-4a58-937d-04f2c3b4fa2c"
      },
      "execution_count": null,
      "outputs": [
        {
          "output_type": "stream",
          "name": "stdout",
          "text": [
            "['C', 'A', 'D', 'B']\n"
          ]
        }
      ]
    },
    {
      "cell_type": "markdown",
      "source": [
        "Mas adiante, vamos explorar os conceitos incialmente citados."
      ],
      "metadata": {
        "id": "Lul9Z6LSLwlm"
      }
    },
    {
      "cell_type": "markdown",
      "source": [
        "# **LINGUAGEM NATURAL**"
      ],
      "metadata": {
        "id": "hxT2jQBPMyI9"
      }
    },
    {
      "cell_type": "markdown",
      "source": [
        "Antes de avançamos para os proximos conteudos, vamos abordar um pouco sobre linguagem natural.\n",
        "\n",
        "\n",
        "***O que é linguagem natural?***\n",
        "\n",
        "Podemos resumir, que seria a forma falada de como executariamos um passo a passo, para determinadas ações ou resolução de problemas."
      ],
      "metadata": {
        "id": "j_q-UiBMNUsH"
      }
    },
    {
      "cell_type": "markdown",
      "source": [
        "para que possamo entender melhor, vamos pensar que precisamos lavar roupa, como seria o passo a passo para que possamos fazer essa ação?\n",
        "\n",
        "Inicio\n",
        "1. separamos as roupas;\n",
        "2. colocamos a roupa dentro da maquina de lavar;\n",
        "3. adicionamos sabão;\n",
        "4. adcionamos amaciante;\n",
        "5. fechamos a tampa;\n",
        "6. ajustamos os parametros para o tipo de roupa que vamos lavar;\n",
        "\n",
        "Fim.\n",
        "\n",
        "Acima é uma forma natural de explicar o que vamos fazer para que possamos lavar a roupa suja. Podemos fazer isso para determinados outras coisas.\n",
        "Podemos também pensar que a forma natural e bem parecida com o passo a passo de uma receita."
      ],
      "metadata": {
        "id": "NA__reXsN2Us"
      }
    },
    {
      "cell_type": "markdown",
      "source": [
        "# **PORTUGOL**"
      ],
      "metadata": {
        "id": "3EKh7h4oSgFu"
      }
    },
    {
      "cell_type": "markdown",
      "source": [
        "Falamos acima, sobre a linguagem natural e como usamos ela no dia a dia. Para continuamos, vamos abordar um conceito de linguagem natural, porem mas parecida com programação."
      ],
      "metadata": {
        "id": "0qXJ50WNSkbz"
      }
    },
    {
      "cell_type": "markdown",
      "source": [
        "***O que é Portugol?***\n",
        "\n",
        "O Portugol é uma pseudocódigo algorítmica muito utilizada na descrição de algoritmos, destaca-se pelo uso de comandos em português, que facilita o aprendizado da lógica de programação.\n",
        "\n",
        "Portanto, para que possamos aprender termos de lógica de programação e algoritmos, sem dúvidas, a utilização do Portugol traz vantagens significativas para a consolidação desse conhecimento, pois foca na solução do problema propriamente dito, e isso é um dos grandes objetivos da lógica de programação e algoritmos"
      ],
      "metadata": {
        "id": "qgYN-TQXTJvL"
      }
    },
    {
      "cell_type": "markdown",
      "source": [
        "*Exemplos de linguagem de programação em portugol:*"
      ],
      "metadata": {
        "id": "iRSiK6J8TWE9"
      }
    },
    {
      "cell_type": "code",
      "source": [
        "a <-- 4\n",
        "b <-- 8\n",
        "c <-- a / b\n",
        "leia c"
      ],
      "metadata": {
        "id": "iACECavQVrTF"
      },
      "execution_count": null,
      "outputs": []
    },
    {
      "cell_type": "code",
      "source": [
        "escreva \"Digite dois números\"\n",
        "leia N1, N2\n",
        "se N2 = 0 então\n",
        "  escreva \"Impossivel Dividir\"\n",
        "senão\n",
        "  D <-- N1/N2\n",
        "  escreva \"Divisão = \", D"
      ],
      "metadata": {
        "id": "mL0FGsBBWHB-"
      },
      "execution_count": null,
      "outputs": []
    },
    {
      "cell_type": "markdown",
      "source": [
        "Para que possamos relacionar o portugol com programação, abaixo listamos algumas informações bem uteis para entender como escrever um algortimo em portugol.\n",
        "\n"
      ],
      "metadata": {
        "id": "wbAMIyM4YHE8"
      }
    },
    {
      "cell_type": "markdown",
      "source": [
        "***LEGENDA:***\n",
        "\n",
        "\n",
        "*   <-- = sinal de atribuição de uma varivael;\n",
        "*   Se = if;\n",
        "*   Senão = else;\n",
        "*   leia = print;\n",
        "*   Para = for;\n",
        "*   Enquando = while;\n",
        "*   Escreva = Input, quando vamos solicitar que o usario insira alguma informação.\n",
        "\n"
      ],
      "metadata": {
        "id": "-vd5HVBIY0Xr"
      }
    },
    {
      "cell_type": "markdown",
      "source": [
        "Depois que passamos por alguns conteudos teoricos, vamos começar a explorar a linguagem de programação baseada nos conceitos que estudamos até este momento."
      ],
      "metadata": {
        "id": "5QM2Jp3qZgFh"
      }
    },
    {
      "cell_type": "markdown",
      "source": [
        "\n",
        "\n",
        "\n",
        "# **HELLO WORLD**"
      ],
      "metadata": {
        "id": "XPWjFUjuFrlD"
      }
    },
    {
      "cell_type": "markdown",
      "source": [
        "Chegamos no momento em que muitos aguardam, os primeiro passo para começar a aprender a programar!!\n",
        "\n",
        "Neste passo, vamos começar a estudar mais a linguagem de programação e como podemos implementar ela para resoluções de problemas do *MUNDO REAL*.\n",
        "\n",
        "Usaremos o **portugol** como liguagem natural e o **python** como linguagem programavel ao decorrer desse notebook.\n"
      ],
      "metadata": {
        "id": "Sh-I6CDicEG_"
      }
    },
    {
      "cell_type": "markdown",
      "source": [
        " ***O que é varivel?***\n",
        "\n",
        "Podemos escrever, que varivel é uma definição usada para atribuir um determinado valor.\n",
        "\n",
        "No ***portugol*** definimos a varivavel da seguinte forma:\n",
        "nome <-- Marcio\n",
        "\n",
        "No ***python*** definimos a varivavel da seguinte forma:\n",
        "nome = 'marcio'"
      ],
      "metadata": {
        "id": "MIP_G4tzGZbB"
      }
    },
    {
      "cell_type": "code",
      "source": [
        "#exemplo de definição de uma varivavel:\n",
        "\n",
        "a = 10\n",
        "print(a)\n",
        "\n",
        "nome = 'marcio'\n",
        "print(nome)"
      ],
      "metadata": {
        "colab": {
          "base_uri": "https://localhost:8080/"
        },
        "id": "pdYyJzNYGDYW",
        "outputId": "762112c5-b023-4447-fa7a-b9e00f13e047"
      },
      "execution_count": null,
      "outputs": [
        {
          "output_type": "stream",
          "name": "stdout",
          "text": [
            "10\n",
            "marcio\n"
          ]
        }
      ]
    },
    {
      "cell_type": "markdown",
      "source": [
        "Podemos ver que acima, para que possamos definir a varivavel e bem imporante usamos o sinal de = para possamos associar a mesma.\n",
        "\n",
        "Podemos definir mais de uma varivavel e usalas ao mesmo tempo."
      ],
      "metadata": {
        "id": "Lyd_NWLEdQFZ"
      }
    },
    {
      "cell_type": "code",
      "source": [
        "a = 5\n",
        "b = 7\n",
        "c = 10\n",
        "x = c / a + b\n",
        "\n",
        "print(x)"
      ],
      "metadata": {
        "colab": {
          "base_uri": "https://localhost:8080/"
        },
        "id": "atLSB-6JdnYj",
        "outputId": "355a3c85-6f81-41d2-9227-8b858b7e2b47"
      },
      "execution_count": null,
      "outputs": [
        {
          "output_type": "stream",
          "name": "stdout",
          "text": [
            "9.0\n"
          ]
        }
      ]
    },
    {
      "cell_type": "markdown",
      "source": [
        "Em portugol podemos escrever o codigo acima da seguinte forma:\n",
        "\n",
        "```\n",
        "a <-- 5\n",
        "b <-- 7\n",
        "c <-- 10\n",
        "x <-- c / a + b\n",
        "leia x\n",
        "```"
      ],
      "metadata": {
        "id": "JDX4H-8JeV9f"
      }
    },
    {
      "cell_type": "markdown",
      "source": [
        "- ***Input e Print***:\n",
        "\n",
        "Bom, acima falamos sobre varivavel e como usamos, agora vamos falar sobre duas funções bem importantes e que usaremos muito no python.*texto em itálico*"
      ],
      "metadata": {
        "id": "BDN47OGUgXE2"
      }
    },
    {
      "cell_type": "markdown",
      "source": [
        "Input e utilizado quando precisamos solicitar ao usario que ele insira um determinado valor.\n",
        "\n",
        "Em portugol, usamos **ESCREVA** para fazer essa solucitação.\n",
        "\n",
        "Para que possamos usar o input, sempre precisamos defirnir a varivavel que irá aceitar esse valor que o usario irá inserir."
      ],
      "metadata": {
        "id": "gTmWjGNzhIHy"
      }
    },
    {
      "cell_type": "code",
      "source": [
        "#EXEMPLO:\n",
        "A = input(\"digite um numero de 0 a  10: \")\n",
        "\n",
        "print(A)"
      ],
      "metadata": {
        "colab": {
          "base_uri": "https://localhost:8080/"
        },
        "id": "L7gqehG4hBAn",
        "outputId": "72603843-c9fb-4b5a-b26e-db9c0c24422d"
      },
      "execution_count": null,
      "outputs": [
        {
          "output_type": "stream",
          "name": "stdout",
          "text": [
            "digite um numero de 0 a  10: 8\n",
            "8\n"
          ]
        }
      ]
    },
    {
      "cell_type": "markdown",
      "source": [
        "Aproveitando, podemos ver que no final do codigo e usado o print para que possamos exibir o que o usario digitou quando solicitamos.\n"
      ],
      "metadata": {
        "id": "I3yvnEFQjeBS"
      }
    },
    {
      "cell_type": "markdown",
      "source": [
        "Abaixo, um exemplo de como seria o que fizemos acima só quem em portugol:\n",
        "\n",
        "```\n",
        "a ESCREVA \"digite um numero de 0 a 10: \"\n",
        "LEIA a\n",
        "```"
      ],
      "metadata": {
        "id": "XcaRZCn5lgUX"
      }
    },
    {
      "cell_type": "markdown",
      "source": [
        "- ***If e Else***:\n",
        "\n",
        "Agora, vamos evoluir um pouco mais o nosso codigo, aprendemos anteriomente o que é *varivavel* e como fazer a definiçao, aprendemos também como usar o *Input* e ao final, como mostrar ao usario uma determinação ação com o *Print*."
      ],
      "metadata": {
        "id": "dg2JB1jPn9tD"
      }
    },
    {
      "cell_type": "markdown",
      "source": [
        "\n",
        "**If** e a função que usamos, quando precisamos definir um determinada condição que precisa ser complicada em nosso codigo.\n",
        "\n",
        "**else** e uma função que podemos usar, para encerrar quando a condição que escrevemos no if não seja complicada.\n",
        "\n",
        "Essa duas funções são de muita importancia, pos elas irãm ser usadas praticamente em todo o codigo que você irá escrever."
      ],
      "metadata": {
        "id": "0QuJ2oyVosY4"
      }
    },
    {
      "cell_type": "markdown",
      "source": [
        "Exemplo de utilização de ***If*** e ***Else***:"
      ],
      "metadata": {
        "id": "4BHDOIAnqZTz"
      }
    },
    {
      "cell_type": "code",
      "source": [
        "a = 10\n",
        "b = 5\n",
        "\n",
        "if a > b:\n",
        "  print(a)\n",
        "else:\n",
        "  print(b)"
      ],
      "metadata": {
        "colab": {
          "base_uri": "https://localhost:8080/"
        },
        "id": "zmBPwSbHjZ0z",
        "outputId": "0b25e52f-670e-489c-ca5e-62e4a4025001"
      },
      "execution_count": null,
      "outputs": [
        {
          "output_type": "stream",
          "name": "stdout",
          "text": [
            "10\n"
          ]
        }
      ]
    },
    {
      "cell_type": "markdown",
      "source": [
        "No codigo acima, usamos o if e else de forma bem simples.\n",
        "Também podemos explorar a função ***and*** que podemos inclementar em nosso codigo.\n",
        "\n",
        "Exemplo utilizando o **and**:"
      ],
      "metadata": {
        "id": "UKtFrN9brGwc"
      }
    },
    {
      "cell_type": "code",
      "source": [
        "a = 10\n",
        "b = 5\n",
        "c = 7\n",
        "\n",
        "if a > b and c > b:\n",
        "  print(a)\n",
        "  print(c)\n",
        "else:\n",
        "  print(b)"
      ],
      "metadata": {
        "colab": {
          "base_uri": "https://localhost:8080/"
        },
        "id": "i3EJBLp7rfO3",
        "outputId": "4960712a-be4f-43c2-b778-1edab6b6bcef"
      },
      "execution_count": null,
      "outputs": [
        {
          "output_type": "stream",
          "name": "stdout",
          "text": [
            "10\n",
            "7\n"
          ]
        }
      ]
    },
    {
      "cell_type": "markdown",
      "source": [
        "Caso a condição do if não fosse complida, o resultado que seria impresso na tela seria o valor de *b = 7*."
      ],
      "metadata": {
        "id": "mvXDqbpkrzig"
      }
    },
    {
      "cell_type": "markdown",
      "source": [
        "- ***For e While***:"
      ],
      "metadata": {
        "id": "7a3mOJoA3TV5"
      }
    },
    {
      "cell_type": "markdown",
      "source": [
        "Dado que aprendemos os primeiros passos em como deservolver um codigo, vamos abordar duas novas funções que ajudaram bastante, quando pensamos em esquema de repetição."
      ],
      "metadata": {
        "id": "t5TVvssI3nHF"
      }
    },
    {
      "cell_type": "markdown",
      "source": [
        "**Situação:** Pense que um professor que precisa lançar a nota de 30 alunos. Com o que vimos até agora, seria necessario fazer 30 vezes uma varivavel. Depois solicitar que ele informe os valores, e por ultimos, vamos pedir para imprimir isso.\n",
        "Da forma que vimos até agora, seria inviavel fazer isso."
      ],
      "metadata": {
        "id": "n3G73IfL3-5J"
      }
    },
    {
      "cell_type": "markdown",
      "source": [
        "Exemplo de como seria isso:\n",
        "\n",
        "```\n",
        "aluno1 = input(\"digite a nota do aluno: \")\n",
        "aluno2 = input(\"digite a nota do aluno: \")\n",
        "....\n",
        "\n",
        "depois\n",
        "\n",
        "print(aluno1)\n",
        "print(aluno2)\n",
        "......\n",
        "```\n",
        "\n",
        "Usando o *For* ou *While*, poderiamos fazer de uma forma mais simplificada e de facil leitura para outros desenvolvedores."
      ],
      "metadata": {
        "id": "wHKgW7iP5i9D"
      }
    },
    {
      "cell_type": "markdown",
      "source": [
        "Agora, vamos usar o ***for***, para imprimir 5 vezes a texto \"Estudado Algoritmos\""
      ],
      "metadata": {
        "id": "7CAn18zK7t1K"
      }
    },
    {
      "cell_type": "code",
      "source": [
        "x = 0\n",
        "for x in range(0,5):\n",
        "  print(\"Estudado Algoritmos\")"
      ],
      "metadata": {
        "colab": {
          "base_uri": "https://localhost:8080/"
        },
        "id": "RBdWFdHX7-Ba",
        "outputId": "b2f12b00-a09c-49e9-e03a-fa4727064e16"
      },
      "execution_count": null,
      "outputs": [
        {
          "output_type": "stream",
          "name": "stdout",
          "text": [
            "Estudado Algoritmos\n",
            "Estudado Algoritmos\n",
            "Estudado Algoritmos\n",
            "Estudado Algoritmos\n",
            "Estudado Algoritmos\n"
          ]
        }
      ]
    },
    {
      "cell_type": "markdown",
      "source": [
        "Abaixo vamos usar o comando ***while*** para imprimir o mesmo texto 5 vezes."
      ],
      "metadata": {
        "id": "83TjXaDX8oBD"
      }
    },
    {
      "cell_type": "code",
      "source": [
        "x = 1\n",
        "while (x <= 5):\n",
        "  print(\"Estudado Algoritmos\")\n",
        "  x = x + 1"
      ],
      "metadata": {
        "colab": {
          "base_uri": "https://localhost:8080/"
        },
        "id": "bOmGi01Y8ff6",
        "outputId": "693dd3a4-4b4e-4736-b036-c23fe46aca8d"
      },
      "execution_count": null,
      "outputs": [
        {
          "output_type": "stream",
          "name": "stdout",
          "text": [
            "Estudado Algoritmos\n",
            "Estudado Algoritmos\n",
            "Estudado Algoritmos\n",
            "Estudado Algoritmos\n",
            "Estudado Algoritmos\n"
          ]
        }
      ]
    },
    {
      "cell_type": "markdown",
      "source": [
        "- ***Vetores e Matriz***:"
      ],
      "metadata": {
        "id": "-xL78ONw3fyT"
      }
    },
    {
      "cell_type": "markdown",
      "source": [
        "*Vetores*:\n",
        "\n",
        "Podemo usar os vetores, para armazenar uma determinada quantidade de variaveis\n",
        "\n",
        "**exemplo:** vetor = [1, 2, 3, 4]\n",
        "\n",
        "Para que possamos acessar um vetor, e necessario informar sua posição dentro daquele vetor.\n",
        "\n",
        "**exemplo:** vetor[3], neste caso vamos estar acessando o numero 4 que esta localizado na posição 3.\n",
        "Importante saber, que no python incia no 0 e no portugol se inicia no 1."
      ],
      "metadata": {
        "id": "lZAXjXM2O-PL"
      }
    },
    {
      "cell_type": "code",
      "source": [
        "alunos = [\"marcio\",\"Pedro\",\"caio\",\"diego\"]\n",
        "print(alunos[1])"
      ],
      "metadata": {
        "colab": {
          "base_uri": "https://localhost:8080/"
        },
        "id": "qK9p6gLyRLrM",
        "outputId": "f4770ae7-5ab6-4c11-c427-cb2a66877c72"
      },
      "execution_count": null,
      "outputs": [
        {
          "output_type": "stream",
          "name": "stdout",
          "text": [
            "Pedro\n"
          ]
        }
      ]
    },
    {
      "cell_type": "markdown",
      "source": [
        "No exemplo acima, usamos o comando print, informado a variavel e sua posição que gostaria de acessar.\n"
      ],
      "metadata": {
        "id": "ZG7QXzNnRbEU"
      }
    },
    {
      "cell_type": "markdown",
      "source": [
        "*Matriz*:"
      ],
      "metadata": {
        "id": "PVgWlomNPt1w"
      }
    },
    {
      "cell_type": "markdown",
      "source": [
        "Vetores bidimisionais, são conhecido como matriz.\n",
        "Podemos resumir, que seria uma estrutura que precisa de dois parametros para que possa ser acessado.\n",
        "\n",
        "LINHAS X COLUNAS\n",
        "\n",
        "Para termos mais de uma lista dentro de um vetor, podemos fazer da seguinte forma:\n",
        "\n",
        "\n",
        "\n",
        "```\n",
        "m = [\n",
        "  [1,2,3],\n",
        "  [4,5,6],\n",
        "  [7,8,9],\n",
        "  [10,11,12]\n",
        "]\n",
        "```"
      ],
      "metadata": {
        "id": "aRlVf-m8TUMd"
      }
    },
    {
      "cell_type": "markdown",
      "source": [
        "# **CONCLUSÃO:**"
      ],
      "metadata": {
        "id": "3tQ_kAW783Sp"
      }
    },
    {
      "cell_type": "markdown",
      "source": [
        "Abordamos os principais conceitos que estudamos em Algoritmos e também a linguagem natural e o portugol. Foi desenvolvido os principais comandos de python para que você possa eleborar seus primeiros comandos.\n",
        "\n",
        "Espero que o conteudo acima, tenha sido de facil entendimento e bem ultil para você que esta aprendedo algoritmos ou inciando na programação."
      ],
      "metadata": {
        "id": "0R0iA5-v88Gw"
      }
    },
    {
      "cell_type": "markdown",
      "source": [
        "**RECOMENDAÇÕES.**\n",
        "\n",
        "Caso queria conhecer mais sobre o Python, acesse da propria linguagem:\n",
        "- https://www.python.org/\n",
        "\n",
        "Dicas de livros sobre Python:\n",
        "\n",
        "- Python Fluente: Programação Clara, Concisa e Eficaz.\n",
        "- Pense em Python: Pense Como um Cientista da Computação.\n",
        "- O Guia do Mochileiro Python: Melhores práticas para desenvolvimento.\n",
        "\n",
        "Outra dica que deixo aqui, é aprender a linguagem SQL voltando para banco de dados. Segue recomendações de livro.\n",
        "\n",
        "- Introdução à Linguagem SQL: Abordagem Prática Para Iniciantes.\n",
        "\n",
        "Site para aprender varios conteudo gratuitamente:\n",
        "\n",
        "- https://www.cursoemvideo.com/cursos/\n",
        "\n",
        "Site para aprender varios conteudo, com preço acessivel:\n",
        "\n",
        "- https://www.udemy.com/pt/"
      ],
      "metadata": {
        "id": "qJvOcdcbyVyV"
      }
    },
    {
      "cell_type": "markdown",
      "source": [
        "**FALE COMIGO:**\n",
        "\n",
        "EMAIL:\n",
        "- marciobincoletojunior@gmail.com\n",
        "\n",
        "LINKEDIN:\n",
        "- https://www.linkedin.com/in/marcio-bincoleto-junior/\n",
        "\n"
      ],
      "metadata": {
        "id": "ILCpPSVUEJnT"
      }
    },
    {
      "cell_type": "markdown",
      "source": [
        "![TKS.jpg](data:image/jpeg;base64,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)"
      ],
      "metadata": {
        "id": "yJzU5slxE3ng"
      }
    }
  ]
}